{
 "cells": [
  {
   "cell_type": "code",
   "execution_count": 1,
   "id": "9d552681",
   "metadata": {},
   "outputs": [],
   "source": [
    "import numpy as np\n",
    "\n",
    "def NN(X,y,w1,w2,b1,b2,N,alpha,e):\n",
    "    epoch = 0\n",
    "    while(True):\n",
    "        epoch+=1\n",
    "        dw1,dw2,db1,db2,dz2,dz1,y_pred = back_prop(X,y,w1,b1,w2,b2,N)\n",
    "        if epoch==30000:\n",
    "            return w1,b1,w2,b2,y_pred\n",
    "        else:\n",
    "            w1 = w1-alpha*dw1\n",
    "            w2 = w2-alpha*dw2\n",
    "            b1 = b1-alpha*db1\n",
    "            b2 = b2-alpha*db2\n",
    "    \n",
    "def forward_1(X,w1,b1):\n",
    "    m = X.shape[0]\n",
    "    n = X.shape[1]\n",
    "    k = np.dot(w1,X.T)\n",
    "    Z = np.add(k,b1.T)\n",
    "    a = 1/(1+np.exp(-Z))\n",
    "    return a.T,Z\n",
    "\n",
    "def forward_prop(X,w1,b1,w2,b2,N):\n",
    "    # layer 1\n",
    "    m = X.shape[0]\n",
    "    n = X.shape[1]\n",
    "    a1,z1 = forward_1(X,w1,b1)\n",
    "    # layer 2\n",
    "    a2,z2 = forward_1(a1,w2,b2)\n",
    "    # prediction\n",
    "    y_pred = []\n",
    "    for i in range(len(a2)):\n",
    "        if a2[i]>0.5:\n",
    "            y_pred.append(1)\n",
    "        else:\n",
    "            y_pred.append(0)\n",
    "    \n",
    "    return y_pred,a1,z1,a2,z2\n",
    "\n",
    "def back_prop(X,y,w1,b1,w2,b2,N):\n",
    "    # gradients\n",
    "    y_pred,a1,z1,a2,z2 = forward_prop(X,w1,b1,w2,b2,N)\n",
    "    \n",
    "    a1 = np.array(a1)\n",
    "    a2 = np.array(a2)\n",
    "    z1 = np.array(z1)\n",
    "    z2 = np.array(z2)\n",
    "    y = np.array(y)\n",
    "    \n",
    "    dz2 = np.subtract(a2.T,y)\n",
    "    dot1 = np.dot(w2.T,dz2)/X.shape[0]\n",
    "    dz1 = np.multiply(dot1,a1.T)\n",
    "    dw2 = np.dot(dz2,a1)/X.shape[0]\n",
    "    dw1 = np.dot(dz1,np.array(X))\n",
    "    db2 = np.sum(dz2)/X.shape[0]\n",
    "    db1 = np.sum(dz1)/X.shape[0]\n",
    "    \n",
    "    return dw1,dw2,db1,db2,dz2,dz1,y_pred"
   ]
  },
  {
   "cell_type": "code",
   "execution_count": 2,
   "id": "4ed182d2",
   "metadata": {},
   "outputs": [],
   "source": [
    "import pandas as pd\n",
    "import math\n",
    "df=pd.read_csv(\"C:\\\\Users\\\\Krishna\\\\Downloads\\\\Logistic_regression_ls.csv\")\n",
    "df_train = df.iloc[:7*df.shape[0]//10,:]\n",
    "df_test = df.iloc[7*df.shape[0]//10:,:]\n",
    "y_train = df_train.iloc[:,2].values\n",
    "y_test = df_test.iloc[:,2].values\n",
    "x_train = df_train.iloc[:, [0, 1]]\n",
    "x_test = df_test.iloc[:, [0, 1]]\n",
    "x_train = x_train.values.tolist()\n",
    "x_test = x_test.values.tolist()"
   ]
  },
  {
   "cell_type": "code",
   "execution_count": 7,
   "id": "d36c93ff",
   "metadata": {},
   "outputs": [
    {
     "name": "stdout",
     "output_type": "stream",
     "text": [
      "Enter N = 3\n"
     ]
    }
   ],
   "source": [
    "import random\n",
    "N = int(input('Enter N = '))\n",
    "random.seed(0)\n",
    "b1=np.array([[random.randint(0,5) for j in range(N)] for i in range(len(x_train))])\n",
    "b2=np.array([random.randint(0,5)])\n",
    "w1=np.array([[1,1] for i in range(N)])\n",
    "w2=np.array([[1 for i in range(N)]])\n",
    "x_train = np.array(x_train)\n",
    "x_test = np.array(x_test)\n",
    "a,b,c,d,e = NN(x_train,y_train,w1,w2,b1,b2,N,0.001,10**-5)"
   ]
  },
  {
   "cell_type": "code",
   "execution_count": 8,
   "id": "0af61150",
   "metadata": {},
   "outputs": [],
   "source": [
    "b = np.array([b[0] for i in range(len(x_test))])\n",
    "m,n,o,p,q = forward_prop(x_test,a,b,c,d,N)"
   ]
  },
  {
   "cell_type": "code",
   "execution_count": 9,
   "id": "2e944d23",
   "metadata": {},
   "outputs": [
    {
     "name": "stdout",
     "output_type": "stream",
     "text": [
      "Precision = 1.0\n",
      "Recall = 1.0\n",
      "F1-score = 1.0\n",
      "Accuracy = 1.0\n"
     ]
    }
   ],
   "source": [
    "tp=0\n",
    "tn=0\n",
    "fp=0\n",
    "fn=0\n",
    "for i in range(len(y_test)):\n",
    "    if y_test[i]==0:\n",
    "        if m[i]==0:\n",
    "            tn+=1\n",
    "        else:\n",
    "            fp+=1\n",
    "    else:\n",
    "        if m[i]==1:\n",
    "            tp+=1\n",
    "        else:\n",
    "            fn+=1\n",
    "\n",
    "p = tp/(tp+fp)\n",
    "r = tp/(tp+fn)\n",
    "f1 = 2*p*r/(p+r)\n",
    "acc = (tp+tn)/(tp+tn+fp+fn)\n",
    "print(f'Precision = {p}')\n",
    "print(f'Recall = {r}')\n",
    "print(f'F1-score = {f1}')\n",
    "print(f'Accuracy = {acc}')"
   ]
  }
 ],
 "metadata": {
  "kernelspec": {
   "display_name": "Python 3 (ipykernel)",
   "language": "python",
   "name": "python3"
  },
  "language_info": {
   "codemirror_mode": {
    "name": "ipython",
    "version": 3
   },
   "file_extension": ".py",
   "mimetype": "text/x-python",
   "name": "python",
   "nbconvert_exporter": "python",
   "pygments_lexer": "ipython3",
   "version": "3.9.7"
  }
 },
 "nbformat": 4,
 "nbformat_minor": 5
}
